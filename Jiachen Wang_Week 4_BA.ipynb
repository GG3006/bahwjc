{
 "cells": [
  {
   "cell_type": "code",
   "execution_count": 1,
   "metadata": {
    "collapsed": true
   },
   "outputs": [],
   "source": [
    "import numpy as np\n",
    "import pandas as pd\n",
    "import matplotlib.pyplot as plt\n",
    "%matplotlib inline"
   ]
  },
  {
   "cell_type": "code",
   "execution_count": 2,
   "metadata": {
    "collapsed": true
   },
   "outputs": [],
   "source": [
    "file_location = \"/Users/jiach/Documents/python3/\"\n",
    "file_name = \"orders_new.csv\"\n",
    "\n",
    "my_data = pd.read_csv(file_location + file_name)"
   ]
  },
  {
   "cell_type": "code",
   "execution_count": 31,
   "metadata": {},
   "outputs": [
    {
     "data": {
      "text/html": [
       "<div>\n",
       "<style>\n",
       "    .dataframe thead tr:only-child th {\n",
       "        text-align: right;\n",
       "    }\n",
       "\n",
       "    .dataframe thead th {\n",
       "        text-align: left;\n",
       "    }\n",
       "\n",
       "    .dataframe tbody tr th {\n",
       "        vertical-align: top;\n",
       "    }\n",
       "</style>\n",
       "<table border=\"1\" class=\"dataframe\">\n",
       "  <thead>\n",
       "    <tr style=\"text-align: right;\">\n",
       "      <th></th>\n",
       "      <th>country</th>\n",
       "      <th>date</th>\n",
       "      <th>experiment_id</th>\n",
       "      <th>order_id</th>\n",
       "      <th>spend_usd</th>\n",
       "      <th>user_id</th>\n",
       "      <th>vertical</th>\n",
       "    </tr>\n",
       "  </thead>\n",
       "  <tbody>\n",
       "    <tr>\n",
       "      <th>39953</th>\n",
       "      <td>US</td>\n",
       "      <td>2017-04-04</td>\n",
       "      <td>12624549</td>\n",
       "      <td>9305375196309306561</td>\n",
       "      <td>9.99</td>\n",
       "      <td>4489579059658865688</td>\n",
       "      <td>ANDROID_APPS</td>\n",
       "    </tr>\n",
       "    <tr>\n",
       "      <th>39954</th>\n",
       "      <td>US</td>\n",
       "      <td>2017-04-01</td>\n",
       "      <td>12624548</td>\n",
       "      <td>10864021731086048938</td>\n",
       "      <td>9.99</td>\n",
       "      <td>12984055359496400963</td>\n",
       "      <td>ANDROID_APPS</td>\n",
       "    </tr>\n",
       "    <tr>\n",
       "      <th>39955</th>\n",
       "      <td>US</td>\n",
       "      <td>2017-04-07</td>\n",
       "      <td>12624548</td>\n",
       "      <td>11896472227391290390</td>\n",
       "      <td>9.99</td>\n",
       "      <td>12984055359496400963</td>\n",
       "      <td>ANDROID_APPS</td>\n",
       "    </tr>\n",
       "    <tr>\n",
       "      <th>39956</th>\n",
       "      <td>US</td>\n",
       "      <td>2017-04-04</td>\n",
       "      <td>12624548</td>\n",
       "      <td>12777924912899351064</td>\n",
       "      <td>9.99</td>\n",
       "      <td>12984055359496400963</td>\n",
       "      <td>ANDROID_APPS</td>\n",
       "    </tr>\n",
       "    <tr>\n",
       "      <th>39957</th>\n",
       "      <td>US</td>\n",
       "      <td>2017-04-03</td>\n",
       "      <td>12624548</td>\n",
       "      <td>3178547077051994619</td>\n",
       "      <td>14.99</td>\n",
       "      <td>2697241628661480461</td>\n",
       "      <td>MUSIC</td>\n",
       "    </tr>\n",
       "  </tbody>\n",
       "</table>\n",
       "</div>"
      ],
      "text/plain": [
       "      country        date  experiment_id              order_id  spend_usd  \\\n",
       "39953      US  2017-04-04       12624549   9305375196309306561       9.99   \n",
       "39954      US  2017-04-01       12624548  10864021731086048938       9.99   \n",
       "39955      US  2017-04-07       12624548  11896472227391290390       9.99   \n",
       "39956      US  2017-04-04       12624548  12777924912899351064       9.99   \n",
       "39957      US  2017-04-03       12624548   3178547077051994619      14.99   \n",
       "\n",
       "                    user_id      vertical  \n",
       "39953   4489579059658865688  ANDROID_APPS  \n",
       "39954  12984055359496400963  ANDROID_APPS  \n",
       "39955  12984055359496400963  ANDROID_APPS  \n",
       "39956  12984055359496400963  ANDROID_APPS  \n",
       "39957   2697241628661480461         MUSIC  "
      ]
     },
     "execution_count": 31,
     "metadata": {},
     "output_type": "execute_result"
    }
   ],
   "source": [
    "my_data.tail()"
   ]
  },
  {
   "cell_type": "code",
   "execution_count": 21,
   "metadata": {
    "collapsed": true
   },
   "outputs": [],
   "source": [
    "def GetSeries(my_data, my_id):\n",
    "    table = my_data[[\"date\", \"spend_usd\"]][my_data.experiment_id == my_id]\n",
    "    series = table.groupby('date')['spend_usd'].sum()\n",
    "    return(series)"
   ]
  },
  {
   "cell_type": "code",
   "execution_count": 63,
   "metadata": {
    "collapsed": true
   },
   "outputs": [],
   "source": [
    "def PlotSeries(index_series, experiment_series, control_series):\n",
    "    df = pd.DataFrame(\n",
    "        {\n",
    "            \"experiment\": experiment_series.tolist(),\n",
    "            \"control\": control_series.tolist()\n",
    "        },\n",
    "        index = index_series.tolist(), \n",
    "        columns = [\"experiment\", \"control\"]\n",
    "    )\n",
    "    df.plot(rot=45)"
   ]
  },
  {
   "cell_type": "code",
   "execution_count": 64,
   "metadata": {},
   "outputs": [],
   "source": [
    "def PrintCumulativeTS(my_data, country, experiment_ids):\n",
    "    date_series = my_data.date\n",
    "    index_series = np.unique(date_series) \n",
    "    index_series = np.sort(index_series)\n",
    "    \n",
    "    my_data=my_data[[\"date\", \"experiment_id\",\"spend_usd\"]][(my_data.country=='country')]\n",
    "\n",
    "    my_data= my_data.sort_values(\"date\", ascending=True, inplace=False)\n",
    "\n",
    "    treatment_cum = np.cumsum(GetSeries(my_data1, experiment_ids[0]))\n",
    "    control_cum = np.cumsum(GetSeries(my_data1, experiment_ids[1]))\n",
    "    a = pd.concat([treatment_cum, control_cum], axis=1)\n",
    "    \n",
    "    PlotSeries(index_series, treatment_cum, control_cum)\n",
    "    \n",
    "    chart = pd.concat([treatment_cum, control_cum], axis=1)\n",
    "    chart.columns=['treatment_cum_spend','control_cum_spend']\n",
    "    chart['cum% uplift on revenue']=(chart.iloc[:,1]-chart.iloc[:,0])/chart.iloc[:,0]\n",
    "    return(chart)\n",
    "                           \n",
    "                           "
   ]
  },
  {
   "cell_type": "code",
   "execution_count": 65,
   "metadata": {},
   "outputs": [
    {
     "data": {
      "text/html": [
       "<div>\n",
       "<style>\n",
       "    .dataframe thead tr:only-child th {\n",
       "        text-align: right;\n",
       "    }\n",
       "\n",
       "    .dataframe thead th {\n",
       "        text-align: left;\n",
       "    }\n",
       "\n",
       "    .dataframe tbody tr th {\n",
       "        vertical-align: top;\n",
       "    }\n",
       "</style>\n",
       "<table border=\"1\" class=\"dataframe\">\n",
       "  <thead>\n",
       "    <tr style=\"text-align: right;\">\n",
       "      <th></th>\n",
       "      <th>treatment_cum_spend</th>\n",
       "      <th>control_cum_spend</th>\n",
       "      <th>cum% uplift on revenue</th>\n",
       "    </tr>\n",
       "    <tr>\n",
       "      <th>date</th>\n",
       "      <th></th>\n",
       "      <th></th>\n",
       "      <th></th>\n",
       "    </tr>\n",
       "  </thead>\n",
       "  <tbody>\n",
       "    <tr>\n",
       "      <th>2017-04-01</th>\n",
       "      <td>19161.677584</td>\n",
       "      <td>20041.695113</td>\n",
       "      <td>0.045926</td>\n",
       "    </tr>\n",
       "    <tr>\n",
       "      <th>2017-04-02</th>\n",
       "      <td>35212.357584</td>\n",
       "      <td>36562.637889</td>\n",
       "      <td>0.038347</td>\n",
       "    </tr>\n",
       "    <tr>\n",
       "      <th>2017-04-03</th>\n",
       "      <td>49546.127584</td>\n",
       "      <td>51008.836778</td>\n",
       "      <td>0.029522</td>\n",
       "    </tr>\n",
       "    <tr>\n",
       "      <th>2017-04-04</th>\n",
       "      <td>63626.336693</td>\n",
       "      <td>65581.939723</td>\n",
       "      <td>0.030736</td>\n",
       "    </tr>\n",
       "    <tr>\n",
       "      <th>2017-04-05</th>\n",
       "      <td>77762.714860</td>\n",
       "      <td>81581.481912</td>\n",
       "      <td>0.049108</td>\n",
       "    </tr>\n",
       "    <tr>\n",
       "      <th>2017-04-06</th>\n",
       "      <td>94620.114860</td>\n",
       "      <td>100399.482837</td>\n",
       "      <td>0.061080</td>\n",
       "    </tr>\n",
       "    <tr>\n",
       "      <th>2017-04-07</th>\n",
       "      <td>114451.306257</td>\n",
       "      <td>119801.407316</td>\n",
       "      <td>0.046746</td>\n",
       "    </tr>\n",
       "  </tbody>\n",
       "</table>\n",
       "</div>"
      ],
      "text/plain": [
       "            treatment_cum_spend  control_cum_spend  cum% uplift on revenue\n",
       "date                                                                      \n",
       "2017-04-01         19161.677584       20041.695113                0.045926\n",
       "2017-04-02         35212.357584       36562.637889                0.038347\n",
       "2017-04-03         49546.127584       51008.836778                0.029522\n",
       "2017-04-04         63626.336693       65581.939723                0.030736\n",
       "2017-04-05         77762.714860       81581.481912                0.049108\n",
       "2017-04-06         94620.114860      100399.482837                0.061080\n",
       "2017-04-07        114451.306257      119801.407316                0.046746"
      ]
     },
     "execution_count": 65,
     "metadata": {},
     "output_type": "execute_result"
    },
    {
     "data": {
      "image/png": "[encoded data removed]",
      "text/plain": [
       "<matplotlib.figure.Figure at 0x1b21a39f198>"
      ]
     },
     "metadata": {},
     "output_type": "display_data"
    }
   ],
   "source": [
    "PrintCumulativeTS(my_data, 'JP', [12624548, 12624549])"
   ]
  },
  {
   "cell_type": "code",
   "execution_count": 66,
   "metadata": {},
   "outputs": [
    {
     "data": {
      "text/html": [
       "<div>\n",
       "<style>\n",
       "    .dataframe thead tr:only-child th {\n",
       "        text-align: right;\n",
       "    }\n",
       "\n",
       "    .dataframe thead th {\n",
       "        text-align: left;\n",
       "    }\n",
       "\n",
       "    .dataframe tbody tr th {\n",
       "        vertical-align: top;\n",
       "    }\n",
       "</style>\n",
       "<table border=\"1\" class=\"dataframe\">\n",
       "  <thead>\n",
       "    <tr style=\"text-align: right;\">\n",
       "      <th></th>\n",
       "      <th>treatment_cum_spend</th>\n",
       "      <th>control_cum_spend</th>\n",
       "      <th>cum% uplift on revenue</th>\n",
       "    </tr>\n",
       "    <tr>\n",
       "      <th>date</th>\n",
       "      <th></th>\n",
       "      <th></th>\n",
       "      <th></th>\n",
       "    </tr>\n",
       "  </thead>\n",
       "  <tbody>\n",
       "    <tr>\n",
       "      <th>2017-04-01</th>\n",
       "      <td>19161.677584</td>\n",
       "      <td>20041.695113</td>\n",
       "      <td>0.045926</td>\n",
       "    </tr>\n",
       "    <tr>\n",
       "      <th>2017-04-02</th>\n",
       "      <td>35212.357584</td>\n",
       "      <td>36562.637889</td>\n",
       "      <td>0.038347</td>\n",
       "    </tr>\n",
       "    <tr>\n",
       "      <th>2017-04-03</th>\n",
       "      <td>49546.127584</td>\n",
       "      <td>51008.836778</td>\n",
       "      <td>0.029522</td>\n",
       "    </tr>\n",
       "    <tr>\n",
       "      <th>2017-04-04</th>\n",
       "      <td>63626.336693</td>\n",
       "      <td>65581.939723</td>\n",
       "      <td>0.030736</td>\n",
       "    </tr>\n",
       "    <tr>\n",
       "      <th>2017-04-05</th>\n",
       "      <td>77762.714860</td>\n",
       "      <td>81581.481912</td>\n",
       "      <td>0.049108</td>\n",
       "    </tr>\n",
       "    <tr>\n",
       "      <th>2017-04-06</th>\n",
       "      <td>94620.114860</td>\n",
       "      <td>100399.482837</td>\n",
       "      <td>0.061080</td>\n",
       "    </tr>\n",
       "    <tr>\n",
       "      <th>2017-04-07</th>\n",
       "      <td>114451.306257</td>\n",
       "      <td>119801.407316</td>\n",
       "      <td>0.046746</td>\n",
       "    </tr>\n",
       "  </tbody>\n",
       "</table>\n",
       "</div>"
      ],
      "text/plain": [
       "            treatment_cum_spend  control_cum_spend  cum% uplift on revenue\n",
       "date                                                                      \n",
       "2017-04-01         19161.677584       20041.695113                0.045926\n",
       "2017-04-02         35212.357584       36562.637889                0.038347\n",
       "2017-04-03         49546.127584       51008.836778                0.029522\n",
       "2017-04-04         63626.336693       65581.939723                0.030736\n",
       "2017-04-05         77762.714860       81581.481912                0.049108\n",
       "2017-04-06         94620.114860      100399.482837                0.061080\n",
       "2017-04-07        114451.306257      119801.407316                0.046746"
      ]
     },
     "execution_count": 66,
     "metadata": {},
     "output_type": "execute_result"
    },
    {
     "data": {
      "image/png": "[encoded data removed]",
      "text/plain": [
       "<matplotlib.figure.Figure at 0x1b21a12fb70>"
      ]
     },
     "metadata": {},
     "output_type": "display_data"
    }
   ],
   "source": [
    "PrintCumulativeTS(my_data, 'US', [12624548, 12624549])"
   ]
  },
  {
   "cell_type": "code",
   "execution_count": null,
   "metadata": {
    "collapsed": true
   },
   "outputs": [],
   "source": []
  }
 ],
 "metadata": {
  "kernelspec": {
   "display_name": "Python 3",
   "language": "python",
   "name": "python3"
  },
  "language_info": {
   "codemirror_mode": {
    "name": "ipython",
    "version": 3
   },
   "file_extension": ".py",
   "mimetype": "text/x-python",
   "name": "python",
   "nbconvert_exporter": "python",
   "pygments_lexer": "ipython3",
   "version": "3.6.1"
  }
 },
 "nbformat": 4,
 "nbformat_minor": 2
}
